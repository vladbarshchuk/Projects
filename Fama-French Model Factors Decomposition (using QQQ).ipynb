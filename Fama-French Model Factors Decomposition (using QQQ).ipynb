{
 "cells": [
  {
   "cell_type": "code",
   "execution_count": 1,
   "id": "dedda3d7",
   "metadata": {},
   "outputs": [],
   "source": [
    "import pandas as pd\n",
    "import statsmodels.api as sm\n",
    "import numpy as np\n",
    "import os"
   ]
  },
  {
   "cell_type": "code",
   "execution_count": 187,
   "id": "f3525169",
   "metadata": {},
   "outputs": [
    {
     "data": {
      "text/plain": [
       "Date\n",
       "1999-03-10    51.0625\n",
       "1999-03-11    51.3125\n",
       "1999-03-12    50.0625\n",
       "1999-03-15    51.5000\n",
       "1999-03-16    51.9375\n",
       "Name: Close, dtype: float64"
      ]
     },
     "execution_count": 187,
     "metadata": {},
     "output_type": "execute_result"
    }
   ],
   "source": [
    "QQQ = pd.read_csv(\"/Users/vladimirbarshchuk/Downloads/QQQ.csv\", parse_dates=True, index_col=0)\n",
    "QQQ[\"Close\"].head()"
   ]
  },
  {
   "cell_type": "code",
   "execution_count": 188,
   "id": "9a27101e",
   "metadata": {},
   "outputs": [],
   "source": [
    "QQQ['QQQ']=(QQQ['Close'].pct_change())\n",
    "QQQ.drop(columns = [\"Open\", \"High\",\"Low\",\"Close\", \"Adj Close\", \"Volume\"], inplace=True)"
   ]
  },
  {
   "cell_type": "code",
   "execution_count": 190,
   "id": "6edcafc8",
   "metadata": {},
   "outputs": [
    {
     "data": {
      "text/plain": [
       "'/Users/vladimirbarshchuk/Downloads'"
      ]
     },
     "execution_count": 190,
     "metadata": {},
     "output_type": "execute_result"
    }
   ],
   "source": [
    "# Get the current working directory. I need the current working directory so that I am able to upload the Fama French dataset.\n",
    "cwd = os.getcwd()\n",
    "cwd"
   ]
  },
  {
   "cell_type": "code",
   "execution_count": 61,
   "id": "a8ce9f7b",
   "metadata": {},
   "outputs": [],
   "source": [
    "#Now in order to use the Fama-French Model dataset, I would have to change the directory to the one where my dataset is saved (Downloads folder).\n",
    "os.chdir('/Users/vladimirbarshchuk/Downloads')\n",
    "os.getcwd()"
   ]
  },
  {
   "cell_type": "code",
   "execution_count": 50,
   "id": "bab93a38",
   "metadata": {},
   "outputs": [],
   "source": [
    "#QQQ data is given in daily returns, I would have to convert this to monthly using the model which was developed in \n",
    "#edhec course earlier..."
   ]
  },
  {
   "cell_type": "code",
   "execution_count": 191,
   "id": "1a235988",
   "metadata": {},
   "outputs": [
    {
     "data": {
      "text/html": [
       "<div>\n",
       "<style scoped>\n",
       "    .dataframe tbody tr th:only-of-type {\n",
       "        vertical-align: middle;\n",
       "    }\n",
       "\n",
       "    .dataframe tbody tr th {\n",
       "        vertical-align: top;\n",
       "    }\n",
       "\n",
       "    .dataframe thead th {\n",
       "        text-align: right;\n",
       "    }\n",
       "</style>\n",
       "<table border=\"1\" class=\"dataframe\">\n",
       "  <thead>\n",
       "    <tr style=\"text-align: right;\">\n",
       "      <th></th>\n",
       "      <th>QQQ</th>\n",
       "    </tr>\n",
       "    <tr>\n",
       "      <th>Date</th>\n",
       "      <th></th>\n",
       "    </tr>\n",
       "  </thead>\n",
       "  <tbody>\n",
       "    <tr>\n",
       "      <th>1999-03</th>\n",
       "      <td>0.027540</td>\n",
       "    </tr>\n",
       "    <tr>\n",
       "      <th>1999-04</th>\n",
       "      <td>0.023824</td>\n",
       "    </tr>\n",
       "    <tr>\n",
       "      <th>1999-05</th>\n",
       "      <td>-0.031414</td>\n",
       "    </tr>\n",
       "    <tr>\n",
       "      <th>1999-06</th>\n",
       "      <td>0.107508</td>\n",
       "    </tr>\n",
       "    <tr>\n",
       "      <th>1999-07</th>\n",
       "      <td>-0.017896</td>\n",
       "    </tr>\n",
       "  </tbody>\n",
       "</table>\n",
       "</div>"
      ],
      "text/plain": [
       "              QQQ\n",
       "Date             \n",
       "1999-03  0.027540\n",
       "1999-04  0.023824\n",
       "1999-05 -0.031414\n",
       "1999-06  0.107508\n",
       "1999-07 -0.017896"
      ]
     },
     "execution_count": 191,
     "metadata": {},
     "output_type": "execute_result"
    }
   ],
   "source": [
    "QQQ_m = QQQ.resample('M').apply(erk.compound).to_period(\"M\")\n",
    "QQQ_m.head()"
   ]
  },
  {
   "cell_type": "code",
   "execution_count": 192,
   "id": "150fd2db",
   "metadata": {},
   "outputs": [
    {
     "data": {
      "text/plain": [
       "Index(['Unnamed: 0', 'Mkt-RF', 'SMB', 'HML', 'RF'], dtype='object')"
      ]
     },
     "execution_count": 192,
     "metadata": {},
     "output_type": "execute_result"
    }
   ],
   "source": [
    "fff = pd.read_csv(\"/Users/vladimirbarshchuk/Downloads/F-F_Research_Data_Factors_m.csv\")\n",
    "fff.columns"
   ]
  },
  {
   "cell_type": "code",
   "execution_count": 62,
   "id": "b50292d1",
   "metadata": {},
   "outputs": [],
   "source": [
    "#We would have to rename column Unnamed to Date and set it as the index..."
   ]
  },
  {
   "cell_type": "code",
   "execution_count": 193,
   "id": "0969aeed",
   "metadata": {},
   "outputs": [],
   "source": [
    "fff.rename(columns={\"Unnamed: 0\": \"Date\"}, inplace=True)\n",
    "fff.set_index(\"Date\", inplace =True)"
   ]
  },
  {
   "cell_type": "code",
   "execution_count": 194,
   "id": "10584da1",
   "metadata": {},
   "outputs": [],
   "source": [
    "# Now let's run the regression, I am going to be using the OLS function from statsmodel package.\n",
    "#I take QQQ from 1999-03 to 2022-01 and FamaFrench for the same period. \n",
    "#Next I regress QQQ_excess returns on the Mkt_excess returns to check the relationship.\n",
    "#I have to reshape Y so OLS function runs. \n",
    "\n",
    "QQQ_excess= QQQ_m[\"1999-03\":\"2022-01\"]-fff.loc[\"199903\":\"202201\", [\"RF\"]].values\n",
    "mkt_excess = fff.loc[\"199903\":\"202201\", [\"Mkt-RF\"]]\n",
    "exp_var = mkt_excess.copy()\n",
    "exp_var[\"Constant\"] = 1\n",
    "y=QQQ_excess.values.reshape(-1,1)\n",
    "x=exp_var"
   ]
  },
  {
   "cell_type": "code",
   "execution_count": 195,
   "id": "3d4b9af7",
   "metadata": {},
   "outputs": [
    {
     "data": {
      "text/html": [
       "<table class=\"simpletable\">\n",
       "<caption>OLS Regression Results</caption>\n",
       "<tr>\n",
       "  <th>Dep. Variable:</th>            <td>y</td>        <th>  R-squared:         </th> <td>   0.206</td>\n",
       "</tr>\n",
       "<tr>\n",
       "  <th>Model:</th>                   <td>OLS</td>       <th>  Adj. R-squared:    </th> <td>   0.203</td>\n",
       "</tr>\n",
       "<tr>\n",
       "  <th>Method:</th>             <td>Least Squares</td>  <th>  F-statistic:       </th> <td>   70.92</td>\n",
       "</tr>\n",
       "<tr>\n",
       "  <th>Date:</th>             <td>Tue, 08 Nov 2022</td> <th>  Prob (F-statistic):</th> <td>2.14e-15</td>\n",
       "</tr>\n",
       "<tr>\n",
       "  <th>Time:</th>                 <td>18:03:15</td>     <th>  Log-Likelihood:    </th> <td>  121.17</td>\n",
       "</tr>\n",
       "<tr>\n",
       "  <th>No. Observations:</th>      <td>   275</td>      <th>  AIC:               </th> <td>  -238.3</td>\n",
       "</tr>\n",
       "<tr>\n",
       "  <th>Df Residuals:</th>          <td>   273</td>      <th>  BIC:               </th> <td>  -231.1</td>\n",
       "</tr>\n",
       "<tr>\n",
       "  <th>Df Model:</th>              <td>     1</td>      <th>                     </th>     <td> </td>   \n",
       "</tr>\n",
       "<tr>\n",
       "  <th>Covariance Type:</th>      <td>nonrobust</td>    <th>                     </th>     <td> </td>   \n",
       "</tr>\n",
       "</table>\n",
       "<table class=\"simpletable\">\n",
       "<tr>\n",
       "      <td></td>        <th>coef</th>     <th>std err</th>      <th>t</th>      <th>P>|t|</th>  <th>[0.025</th>    <th>0.975]</th>  \n",
       "</tr>\n",
       "<tr>\n",
       "  <th>Mkt-RF</th>   <td>    0.0176</td> <td>    0.002</td> <td>    8.421</td> <td> 0.000</td> <td>    0.014</td> <td>    0.022</td>\n",
       "</tr>\n",
       "<tr>\n",
       "  <th>Constant</th> <td>   -0.1350</td> <td>    0.010</td> <td>  -14.187</td> <td> 0.000</td> <td>   -0.154</td> <td>   -0.116</td>\n",
       "</tr>\n",
       "</table>\n",
       "<table class=\"simpletable\">\n",
       "<tr>\n",
       "  <th>Omnibus:</th>       <td>35.890</td> <th>  Durbin-Watson:     </th> <td>   0.138</td>\n",
       "</tr>\n",
       "<tr>\n",
       "  <th>Prob(Omnibus):</th> <td> 0.000</td> <th>  Jarque-Bera (JB):  </th> <td>  47.222</td>\n",
       "</tr>\n",
       "<tr>\n",
       "  <th>Skew:</th>          <td>-1.014</td> <th>  Prob(JB):          </th> <td>5.57e-11</td>\n",
       "</tr>\n",
       "<tr>\n",
       "  <th>Kurtosis:</th>      <td> 3.088</td> <th>  Cond. No.          </th> <td>    4.59</td>\n",
       "</tr>\n",
       "</table><br/><br/>Notes:<br/>[1] Standard Errors assume that the covariance matrix of the errors is correctly specified."
      ],
      "text/plain": [
       "<class 'statsmodels.iolib.summary.Summary'>\n",
       "\"\"\"\n",
       "                            OLS Regression Results                            \n",
       "==============================================================================\n",
       "Dep. Variable:                      y   R-squared:                       0.206\n",
       "Model:                            OLS   Adj. R-squared:                  0.203\n",
       "Method:                 Least Squares   F-statistic:                     70.92\n",
       "Date:                Tue, 08 Nov 2022   Prob (F-statistic):           2.14e-15\n",
       "Time:                        18:03:15   Log-Likelihood:                 121.17\n",
       "No. Observations:                 275   AIC:                            -238.3\n",
       "Df Residuals:                     273   BIC:                            -231.1\n",
       "Df Model:                           1                                         \n",
       "Covariance Type:            nonrobust                                         \n",
       "==============================================================================\n",
       "                 coef    std err          t      P>|t|      [0.025      0.975]\n",
       "------------------------------------------------------------------------------\n",
       "Mkt-RF         0.0176      0.002      8.421      0.000       0.014       0.022\n",
       "Constant      -0.1350      0.010    -14.187      0.000      -0.154      -0.116\n",
       "==============================================================================\n",
       "Omnibus:                       35.890   Durbin-Watson:                   0.138\n",
       "Prob(Omnibus):                  0.000   Jarque-Bera (JB):               47.222\n",
       "Skew:                          -1.014   Prob(JB):                     5.57e-11\n",
       "Kurtosis:                       3.088   Cond. No.                         4.59\n",
       "==============================================================================\n",
       "\n",
       "Notes:\n",
       "[1] Standard Errors assume that the covariance matrix of the errors is correctly specified.\n",
       "\"\"\""
      ]
     },
     "execution_count": 195,
     "metadata": {},
     "output_type": "execute_result"
    }
   ],
   "source": [
    "lm = sm.OLS(y,x).fit()\n",
    "lm.summary()"
   ]
  },
  {
   "cell_type": "code",
   "execution_count": 196,
   "id": "39d2907c",
   "metadata": {},
   "outputs": [],
   "source": [
    "# Now I follow the same procedure with the HML aka Value and SMB aka Size.\n",
    "exp_var[\"Value\"]=fff.loc[\"199903\":\"202201\", [\"HML\"]]\n",
    "exp_var[\"Size\"] = fff.loc[\"199903\":\"202201\", [\"SMB\"]]"
   ]
  },
  {
   "cell_type": "code",
   "execution_count": 197,
   "id": "b56088fc",
   "metadata": {},
   "outputs": [
    {
     "data": {
      "text/html": [
       "<table class=\"simpletable\">\n",
       "<caption>OLS Regression Results</caption>\n",
       "<tr>\n",
       "  <th>Dep. Variable:</th>            <td>y</td>        <th>  R-squared:         </th> <td>   0.243</td>\n",
       "</tr>\n",
       "<tr>\n",
       "  <th>Model:</th>                   <td>OLS</td>       <th>  Adj. R-squared:    </th> <td>   0.235</td>\n",
       "</tr>\n",
       "<tr>\n",
       "  <th>Method:</th>             <td>Least Squares</td>  <th>  F-statistic:       </th> <td>   29.02</td>\n",
       "</tr>\n",
       "<tr>\n",
       "  <th>Date:</th>             <td>Tue, 08 Nov 2022</td> <th>  Prob (F-statistic):</th> <td>2.67e-16</td>\n",
       "</tr>\n",
       "<tr>\n",
       "  <th>Time:</th>                 <td>18:03:53</td>     <th>  Log-Likelihood:    </th> <td>  127.72</td>\n",
       "</tr>\n",
       "<tr>\n",
       "  <th>No. Observations:</th>      <td>   275</td>      <th>  AIC:               </th> <td>  -247.4</td>\n",
       "</tr>\n",
       "<tr>\n",
       "  <th>Df Residuals:</th>          <td>   271</td>      <th>  BIC:               </th> <td>  -233.0</td>\n",
       "</tr>\n",
       "<tr>\n",
       "  <th>Df Model:</th>              <td>     3</td>      <th>                     </th>     <td> </td>   \n",
       "</tr>\n",
       "<tr>\n",
       "  <th>Covariance Type:</th>      <td>nonrobust</td>    <th>                     </th>     <td> </td>   \n",
       "</tr>\n",
       "</table>\n",
       "<table class=\"simpletable\">\n",
       "<tr>\n",
       "      <td></td>        <th>coef</th>     <th>std err</th>      <th>t</th>      <th>P>|t|</th>  <th>[0.025</th>    <th>0.975]</th>  \n",
       "</tr>\n",
       "<tr>\n",
       "  <th>Mkt-RF</th>   <td>    0.0174</td> <td>    0.002</td> <td>    8.194</td> <td> 0.000</td> <td>    0.013</td> <td>    0.022</td>\n",
       "</tr>\n",
       "<tr>\n",
       "  <th>Constant</th> <td>   -0.1337</td> <td>    0.009</td> <td>  -14.303</td> <td> 0.000</td> <td>   -0.152</td> <td>   -0.115</td>\n",
       "</tr>\n",
       "<tr>\n",
       "  <th>Value</th>    <td>   -0.0098</td> <td>    0.003</td> <td>   -3.605</td> <td> 0.000</td> <td>   -0.015</td> <td>   -0.004</td>\n",
       "</tr>\n",
       "<tr>\n",
       "  <th>Size</th>     <td>   -0.0008</td> <td>    0.003</td> <td>   -0.263</td> <td> 0.793</td> <td>   -0.007</td> <td>    0.005</td>\n",
       "</tr>\n",
       "</table>\n",
       "<table class=\"simpletable\">\n",
       "<tr>\n",
       "  <th>Omnibus:</th>       <td>31.974</td> <th>  Durbin-Watson:     </th> <td>   0.121</td>\n",
       "</tr>\n",
       "<tr>\n",
       "  <th>Prob(Omnibus):</th> <td> 0.000</td> <th>  Jarque-Bera (JB):  </th> <td>  40.795</td>\n",
       "</tr>\n",
       "<tr>\n",
       "  <th>Skew:</th>          <td>-0.937</td> <th>  Prob(JB):          </th> <td>1.38e-09</td>\n",
       "</tr>\n",
       "<tr>\n",
       "  <th>Kurtosis:</th>      <td> 2.784</td> <th>  Cond. No.          </th> <td>    4.79</td>\n",
       "</tr>\n",
       "</table><br/><br/>Notes:<br/>[1] Standard Errors assume that the covariance matrix of the errors is correctly specified."
      ],
      "text/plain": [
       "<class 'statsmodels.iolib.summary.Summary'>\n",
       "\"\"\"\n",
       "                            OLS Regression Results                            \n",
       "==============================================================================\n",
       "Dep. Variable:                      y   R-squared:                       0.243\n",
       "Model:                            OLS   Adj. R-squared:                  0.235\n",
       "Method:                 Least Squares   F-statistic:                     29.02\n",
       "Date:                Tue, 08 Nov 2022   Prob (F-statistic):           2.67e-16\n",
       "Time:                        18:03:53   Log-Likelihood:                 127.72\n",
       "No. Observations:                 275   AIC:                            -247.4\n",
       "Df Residuals:                     271   BIC:                            -233.0\n",
       "Df Model:                           3                                         \n",
       "Covariance Type:            nonrobust                                         \n",
       "==============================================================================\n",
       "                 coef    std err          t      P>|t|      [0.025      0.975]\n",
       "------------------------------------------------------------------------------\n",
       "Mkt-RF         0.0174      0.002      8.194      0.000       0.013       0.022\n",
       "Constant      -0.1337      0.009    -14.303      0.000      -0.152      -0.115\n",
       "Value         -0.0098      0.003     -3.605      0.000      -0.015      -0.004\n",
       "Size          -0.0008      0.003     -0.263      0.793      -0.007       0.005\n",
       "==============================================================================\n",
       "Omnibus:                       31.974   Durbin-Watson:                   0.121\n",
       "Prob(Omnibus):                  0.000   Jarque-Bera (JB):               40.795\n",
       "Skew:                          -0.937   Prob(JB):                     1.38e-09\n",
       "Kurtosis:                       2.784   Cond. No.                         4.79\n",
       "==============================================================================\n",
       "\n",
       "Notes:\n",
       "[1] Standard Errors assume that the covariance matrix of the errors is correctly specified.\n",
       "\"\"\""
      ]
     },
     "execution_count": 197,
     "metadata": {},
     "output_type": "execute_result"
    }
   ],
   "source": [
    "lm = sm.OLS(y,x).fit()\n",
    "lm.summary()"
   ]
  },
  {
   "cell_type": "code",
   "execution_count": 171,
   "id": "89efa633",
   "metadata": {},
   "outputs": [],
   "source": [
    "\n"
   ]
  },
  {
   "cell_type": "code",
   "execution_count": 172,
   "id": "f8a4a7ae",
   "metadata": {},
   "outputs": [],
   "source": []
  },
  {
   "cell_type": "code",
   "execution_count": 183,
   "id": "bd3d35a7",
   "metadata": {},
   "outputs": [],
   "source": []
  },
  {
   "cell_type": "code",
   "execution_count": null,
   "id": "d2bcc654",
   "metadata": {},
   "outputs": [],
   "source": []
  },
  {
   "cell_type": "code",
   "execution_count": null,
   "id": "0da151d0",
   "metadata": {},
   "outputs": [],
   "source": []
  },
  {
   "cell_type": "code",
   "execution_count": null,
   "id": "ba7aa893",
   "metadata": {},
   "outputs": [],
   "source": []
  },
  {
   "cell_type": "code",
   "execution_count": null,
   "id": "230f2f68",
   "metadata": {},
   "outputs": [],
   "source": [
    "\n"
   ]
  },
  {
   "cell_type": "code",
   "execution_count": null,
   "id": "5da6a4b9",
   "metadata": {},
   "outputs": [],
   "source": []
  },
  {
   "cell_type": "code",
   "execution_count": null,
   "id": "f5ba4b36",
   "metadata": {},
   "outputs": [],
   "source": []
  },
  {
   "cell_type": "code",
   "execution_count": null,
   "id": "36b1f412",
   "metadata": {},
   "outputs": [],
   "source": []
  }
 ],
 "metadata": {
  "kernelspec": {
   "display_name": "Python 3 (ipykernel)",
   "language": "python",
   "name": "python3"
  },
  "language_info": {
   "codemirror_mode": {
    "name": "ipython",
    "version": 3
   },
   "file_extension": ".py",
   "mimetype": "text/x-python",
   "name": "python",
   "nbconvert_exporter": "python",
   "pygments_lexer": "ipython3",
   "version": "3.9.7"
  }
 },
 "nbformat": 4,
 "nbformat_minor": 5
}
