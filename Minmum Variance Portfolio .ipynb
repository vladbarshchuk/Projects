{
 "cells": [
  {
   "cell_type": "code",
   "execution_count": 47,
   "id": "426455e1",
   "metadata": {},
   "outputs": [],
   "source": [
    "'''\n",
    "In this project I use historical returns data from a porfolio of over 30 indusries in order to identify the optmized \n",
    "weights for N portfolio of assets. \n",
    "In this part of the Code I create functions necessary for conducting calculations to Minimum Varience Portfolio.  \n",
    "'''\n",
    "\n",
    "\n",
    "def portfolio_return(weights, vec_returns):\n",
    "    '''\n",
    "    Computes the return of a portfolio. \n",
    "    It takes in input a row vector of weights (list of np.array) \n",
    "    and a column vector (or pd.Series) of returns\n",
    "    '''\n",
    "    return np.dot(weights, vec_returns)\n",
    "\n",
    "def portfolio_vol(weights, cov_rets):\n",
    "    '''\n",
    "    Computes the volatility of a portfolio. \n",
    "    It takes in input a vector of weights (np.array or pd.Series) \n",
    "    and the covariance matrix of the portfolio asset returns\n",
    "    '''\n",
    "    return ( np.dot(weights.T, np.dot(cov_rets, weights)) )**(0.5) \n",
    "\n",
    "def annualize_rets(s, periods_per_year):\n",
    "    '''\n",
    "    Computes the return per year, or, annualized return.\n",
    "    The variable periods_per_year can be, e.g., 12, 52, 252, in \n",
    "    case of monthly, weekly, and daily data.\n",
    "    The method takes in input either a DataFrame or a Series and, in the former \n",
    "    case, it computes the annualized return for every column (Series) by using pd.aggregate\n",
    "    '''\n",
    "    if isinstance(s, pd.DataFrame):\n",
    "        return s.aggregate( annualize_rets, periods_per_year=periods_per_year )\n",
    "    elif isinstance(s, pd.Series):\n",
    "        growth = (1 + s).prod()\n",
    "        n_period_growth = s.shape[0]\n",
    "        return growth**(periods_per_year/n_period_growth) - 1"
   ]
  },
  {
   "cell_type": "code",
   "execution_count": 9,
   "id": "8a031162",
   "metadata": {},
   "outputs": [],
   "source": [
    "import numpy as np \n",
    "import pandas as pd\n",
    "from scipy.optimize import minimize\n",
    "\n",
    "%load_ext autoreload\n",
    "%autoreload 2\n",
    "\n",
    "df=pd.read_csv(r\"/Users/vladimirbarshchuk/Downloads/ind30_m_vw_rets.csv\", header = 0, index_col = 0, parse_dates = True)/100\n",
    "df.index =pd.to_datetime(df.index, format =\"%Y%m\").to_period(\"M\")\n",
    "df.columns = df.columns.str.strip()\n",
    "\n",
    "er = annualize_rets(df[\"1995\":\"2000\"],12)\n",
    "cov = df[\"1995\":\"2000\"].cov()\n",
    "\n",
    "\n",
    "\n",
    "def minimize_vol(target_return, er, cov):\n",
    "    n=er.shape[0]\n",
    "    init_guess = np.repeat(1/n, n)\n",
    "    bounds =((0.0, 1.0),)*n\n",
    "    \n",
    "    weights_sum_to_1 = {'type': 'eq',\n",
    "                        'fun': lambda weights: np.sum(weights) - 1\n",
    "    }\n",
    "    return_is_target = {'type': 'eq',\n",
    "                        'args': (er,),\n",
    "                        'fun': lambda weights, er: target_return - portfolio_return(weights,er)\n",
    "    }\n",
    "    weights = minimize(portfolio_vol, init_guess,\n",
    "                       args=(cov,), method='SLSQP',\n",
    "                       options={'disp': False},\n",
    "                       constraints=(weights_sum_to_1,return_is_target),\n",
    "                       bounds=bounds)\n",
    "    return weights.x"
   ]
  },
  {
   "cell_type": "code",
   "execution_count": 52,
   "id": "28be8f6e",
   "metadata": {},
   "outputs": [
    {
     "data": {
      "text/plain": [
       "array([0.25143919, 0.21871255, 0.18072117, 0.34912709])"
      ]
     },
     "execution_count": 52,
     "metadata": {},
     "output_type": "execute_result"
    }
   ],
   "source": [
    "l = [\"Games\", \"Fin\", \"Paper\", \"Trans\"]\n",
    "minimize_vol(0.1455, er[l], cov.loc[l,l])"
   ]
  },
  {
   "cell_type": "code",
   "execution_count": 53,
   "id": "ab397138",
   "metadata": {},
   "outputs": [
    {
     "data": {
      "text/plain": [
       "'\\nWhat is the portfolio varience for the weights above ? \\n\\n'"
      ]
     },
     "execution_count": 53,
     "metadata": {},
     "output_type": "execute_result"
    }
   ],
   "source": [
    "\n",
    "'''\n",
    "What is the portfolio varience for the weights above ? \n",
    "\n",
    "'''"
   ]
  },
  {
   "cell_type": "code",
   "execution_count": 54,
   "id": "e765db41",
   "metadata": {},
   "outputs": [],
   "source": [
    "minimum_weights = minimize_vol(0.1455, er[l], cov.loc[l,l])"
   ]
  },
  {
   "cell_type": "code",
   "execution_count": 57,
   "id": "603d9b63",
   "metadata": {},
   "outputs": [
    {
     "data": {
      "text/plain": [
       "0.04692233208713832"
      ]
     },
     "execution_count": 57,
     "metadata": {},
     "output_type": "execute_result"
    }
   ],
   "source": [
    "portfolio_vol(minimum_weights, cov.loc[l,l])"
   ]
  },
  {
   "cell_type": "code",
   "execution_count": null,
   "id": "b109fdd0",
   "metadata": {},
   "outputs": [],
   "source": []
  },
  {
   "cell_type": "code",
   "execution_count": null,
   "id": "bbf67f2b",
   "metadata": {},
   "outputs": [],
   "source": []
  },
  {
   "cell_type": "code",
   "execution_count": null,
   "id": "a3b88085",
   "metadata": {},
   "outputs": [],
   "source": [
    "\n",
    "\n",
    "\n"
   ]
  },
  {
   "cell_type": "raw",
   "id": "a5b3c394",
   "metadata": {},
   "source": []
  },
  {
   "cell_type": "code",
   "execution_count": null,
   "id": "8a0f344b",
   "metadata": {},
   "outputs": [],
   "source": []
  },
  {
   "cell_type": "code",
   "execution_count": 49,
   "id": "3a03937f",
   "metadata": {},
   "outputs": [],
   "source": []
  },
  {
   "cell_type": "code",
   "execution_count": null,
   "id": "6f06ae82",
   "metadata": {},
   "outputs": [],
   "source": []
  },
  {
   "cell_type": "code",
   "execution_count": null,
   "id": "aadce907",
   "metadata": {},
   "outputs": [],
   "source": []
  }
 ],
 "metadata": {
  "kernelspec": {
   "display_name": "Python 3 (ipykernel)",
   "language": "python",
   "name": "python3"
  },
  "language_info": {
   "codemirror_mode": {
    "name": "ipython",
    "version": 3
   },
   "file_extension": ".py",
   "mimetype": "text/x-python",
   "name": "python",
   "nbconvert_exporter": "python",
   "pygments_lexer": "ipython3",
   "version": "3.9.7"
  }
 },
 "nbformat": 4,
 "nbformat_minor": 5
}
